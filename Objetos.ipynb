{
  "nbformat": 4,
  "nbformat_minor": 0,
  "metadata": {
    "colab": {
      "name": "Objetos.ipynb",
      "provenance": [],
      "collapsed_sections": [],
      "authorship_tag": "ABX9TyMwuKfu+rzAGuy2n6Exmrwb",
      "include_colab_link": true
    },
    "kernelspec": {
      "name": "python3",
      "display_name": "Python 3"
    },
    "language_info": {
      "name": "python"
    }
  },
  "cells": [
    {
      "cell_type": "markdown",
      "metadata": {
        "id": "view-in-github",
        "colab_type": "text"
      },
      "source": [
        "<a href=\"https://colab.research.google.com/github/Danniel13/Python-Practicas/blob/main/Objetos.ipynb\" target=\"_parent\"><img src=\"https://colab.research.google.com/assets/colab-badge.svg\" alt=\"Open In Colab\"/></a>"
      ]
    },
    {
      "cell_type": "code",
      "metadata": {
        "id": "a_FB55z9vi4W"
      },
      "source": [
        "class carro(): #definicion objeto\n",
        "  color = \"rojo\"\n",
        "  def frenar(self): #self palabra para llamar variables globales\n",
        "      pass"
      ],
      "execution_count": null,
      "outputs": []
    },
    {
      "cell_type": "code",
      "metadata": {
        "id": "27RfKANmx70Y"
      },
      "source": [
        "carroA = carro()\n",
        "carroB = carro()"
      ],
      "execution_count": null,
      "outputs": []
    },
    {
      "cell_type": "code",
      "metadata": {
        "colab": {
          "base_uri": "https://localhost:8080/",
          "height": 35
        },
        "id": "aWoks7mWyDit",
        "outputId": "f28f13ee-d2db-4ba3-f7d1-0f0db03826e0"
      },
      "source": [
        "carro.color"
      ],
      "execution_count": null,
      "outputs": [
        {
          "output_type": "execute_result",
          "data": {
            "application/vnd.google.colaboratory.intrinsic+json": {
              "type": "string"
            },
            "text/plain": [
              "'rojo'"
            ]
          },
          "metadata": {
            "tags": []
          },
          "execution_count": 7
        }
      ]
    },
    {
      "cell_type": "code",
      "metadata": {
        "colab": {
          "base_uri": "https://localhost:8080/",
          "height": 35
        },
        "id": "pd6BK4E2yTrm",
        "outputId": "541176cf-12c3-4ccc-fc1b-1711751472ba"
      },
      "source": [
        "carroA.color"
      ],
      "execution_count": null,
      "outputs": [
        {
          "output_type": "execute_result",
          "data": {
            "application/vnd.google.colaboratory.intrinsic+json": {
              "type": "string"
            },
            "text/plain": [
              "'rojo'"
            ]
          },
          "metadata": {
            "tags": []
          },
          "execution_count": 8
        }
      ]
    },
    {
      "cell_type": "code",
      "metadata": {
        "colab": {
          "base_uri": "https://localhost:8080/",
          "height": 35
        },
        "id": "h-NZeK4Bya1N",
        "outputId": "c877c86e-dffa-41d8-dcd9-077a44104b84"
      },
      "source": [
        "carroA.color = \"azul\"\n",
        "carroA.color"
      ],
      "execution_count": null,
      "outputs": [
        {
          "output_type": "execute_result",
          "data": {
            "application/vnd.google.colaboratory.intrinsic+json": {
              "type": "string"
            },
            "text/plain": [
              "'azul'"
            ]
          },
          "metadata": {
            "tags": []
          },
          "execution_count": 11
        }
      ]
    },
    {
      "cell_type": "code",
      "metadata": {
        "colab": {
          "base_uri": "https://localhost:8080/",
          "height": 35
        },
        "id": "ItOWHn56yqsb",
        "outputId": "5e2327ae-d21a-4108-9b12-0d7b13143c81"
      },
      "source": [
        "carroB.color"
      ],
      "execution_count": null,
      "outputs": [
        {
          "output_type": "execute_result",
          "data": {
            "application/vnd.google.colaboratory.intrinsic+json": {
              "type": "string"
            },
            "text/plain": [
              "'rojo'"
            ]
          },
          "metadata": {
            "tags": []
          },
          "execution_count": 12
        }
      ]
    },
    {
      "cell_type": "code",
      "metadata": {
        "colab": {
          "base_uri": "https://localhost:8080/"
        },
        "id": "Xeq38BYBywYT",
        "outputId": "83f627c2-5a4b-42b7-c789-e093f489946a"
      },
      "source": [
        "print(type(carroB))"
      ],
      "execution_count": null,
      "outputs": [
        {
          "output_type": "stream",
          "text": [
            "<class '__main__.carro'>\n"
          ],
          "name": "stdout"
        }
      ]
    },
    {
      "cell_type": "code",
      "metadata": {
        "id": "1-TRJsPSzpwB"
      },
      "source": [
        "#Definicio herencia \n",
        "class vehiculo(): #definicion objeto\n",
        "  color = \"blanco\"\n",
        "  def frenar(self): #self palabra para llamar variables globales\n",
        "    print(\"esta frenando\")\n",
        "\n",
        "class moto(vehiculo):\n",
        "  pass\n",
        "\n",
        "class carro(vehiculo):\n",
        "  color=\"verde\"\n",
        "  pass"
      ],
      "execution_count": null,
      "outputs": []
    },
    {
      "cell_type": "code",
      "metadata": {
        "id": "B76mmhrFX_VM"
      },
      "source": [
        "class padre:\n",
        "  def __init__(self):\n",
        "      pass\n",
        "  apellido = \"Garcia\"\n",
        "  def profesion(self):\n",
        "      print(\"Ingeniería\")\n",
        "\n",
        "class hijo(padre):\n",
        "    pass"
      ],
      "execution_count": null,
      "outputs": []
    },
    {
      "cell_type": "code",
      "metadata": {
        "id": "_hmYxCNcdwfl"
      },
      "source": [
        "mario = hijo()\n",
        "sofia = hijo()"
      ],
      "execution_count": null,
      "outputs": []
    },
    {
      "cell_type": "code",
      "metadata": {
        "id": "BF1solbqd1Iq"
      },
      "source": [
        ""
      ],
      "execution_count": null,
      "outputs": []
    }
  ]
}