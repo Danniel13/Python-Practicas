{
  "nbformat": 4,
  "nbformat_minor": 0,
  "metadata": {
    "colab": {
      "name": "modules.ipynb",
      "provenance": [],
      "authorship_tag": "ABX9TyNUFFn9fwxgfryk/PVSIVOE",
      "include_colab_link": true
    },
    "kernelspec": {
      "name": "python3",
      "display_name": "Python 3"
    },
    "language_info": {
      "name": "python"
    }
  },
  "cells": [
    {
      "cell_type": "markdown",
      "metadata": {
        "id": "view-in-github",
        "colab_type": "text"
      },
      "source": [
        "<a href=\"https://colab.research.google.com/github/Danniel13/Python-Practicas/blob/main/modules.ipynb\" target=\"_parent\"><img src=\"https://colab.research.google.com/assets/colab-badge.svg\" alt=\"Open In Colab\"/></a>"
      ]
    },
    {
      "cell_type": "code",
      "metadata": {
        "colab": {
          "base_uri": "https://localhost:8080/"
        },
        "id": "R9nqj55y91qD",
        "outputId": "5a28b950-c74b-4763-b075-0359496a2989"
      },
      "source": [
        "import math\n",
        "import sys\n",
        "import json\n",
        "\n",
        "x= math.pi\n",
        "k= math.pow(3,3)\n",
        "\n",
        "print(\"El número pi es: \",x)\n",
        "print(\"La potentia es: \",k)\n"
      ],
      "execution_count": null,
      "outputs": [
        {
          "output_type": "stream",
          "text": [
            "El número pi es:  3.141592653589793\n",
            "La potentia es:  27.0\n"
          ],
          "name": "stdout"
        }
      ]
    },
    {
      "cell_type": "code",
      "metadata": {
        "colab": {
          "base_uri": "https://localhost:8080/"
        },
        "id": "vjspMuoF_5oA",
        "outputId": "75227c89-c74f-46a0-bfe9-7e97306c015d"
      },
      "source": [
        "#random para traer datos aleatorios.\n",
        "import random\n",
        "v = random.randint(10,100)\n",
        "print(v)"
      ],
      "execution_count": null,
      "outputs": [
        {
          "output_type": "stream",
          "text": [
            "14\n"
          ],
          "name": "stdout"
        }
      ]
    },
    {
      "cell_type": "code",
      "metadata": {
        "colab": {
          "base_uri": "https://localhost:8080/"
        },
        "id": "0xgCMVOFC2G3",
        "outputId": "0e5a641b-7638-4a7e-f6fa-bfe147252907"
      },
      "source": [
        "from random import choice, sample\n",
        "\n",
        "lista1 = [\"piedra\", \"papel\", \"tijera\"]\n",
        "print(random.choice(lista1))"
      ],
      "execution_count": null,
      "outputs": [
        {
          "output_type": "stream",
          "text": [
            "tijera\n"
          ],
          "name": "stdout"
        }
      ]
    },
    {
      "cell_type": "code",
      "metadata": {
        "colab": {
          "base_uri": "https://localhost:8080/"
        },
        "id": "MUC0p5VsEc9J",
        "outputId": "bfaf6198-7987-43c8-8fbf-6cc5d7ab0b9c"
      },
      "source": [
        "from random import choice, sample \n",
        "lista2 = [1,3,5,7,9,11,15,13,17,19,21,23,1000]\n",
        "print(random.choice(lista2))\n",
        "print(sample(lista2, 5))"
      ],
      "execution_count": null,
      "outputs": [
        {
          "output_type": "stream",
          "text": [
            "7\n",
            "[17, 3, 1, 9, 19]\n"
          ],
          "name": "stdout"
        }
      ]
    },
    {
      "cell_type": "code",
      "metadata": {
        "colab": {
          "base_uri": "https://localhost:8080/"
        },
        "id": "qfphncE6G4sb",
        "outputId": "3a2485af-1c4d-419d-bb05-4895fc2df7fd"
      },
      "source": [
        "from platform import *\n",
        "print (system())"
      ],
      "execution_count": null,
      "outputs": [
        {
          "output_type": "stream",
          "text": [
            "Linux\n"
          ],
          "name": "stdout"
        }
      ]
    },
    {
      "cell_type": "code",
      "metadata": {
        "colab": {
          "base_uri": "https://localhost:8080/"
        },
        "id": "-4YPFsZ1HCPb",
        "outputId": "a8f9e179-2422-4b5f-c174-c986917fdd4d"
      },
      "source": [
        "import platform\n",
        "\n",
        "print(version())"
      ],
      "execution_count": null,
      "outputs": [
        {
          "output_type": "stream",
          "text": [
            "#1 SMP Sat Jun 5 09:50:34 PDT 2021\n"
          ],
          "name": "stdout"
        }
      ]
    }
  ]
}