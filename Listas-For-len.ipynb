{
  "nbformat": 4,
  "nbformat_minor": 0,
  "metadata": {
    "colab": {
      "name": "Untitled0.ipynb",
      "provenance": [],
      "authorship_tag": "ABX9TyMd23rPHqUEjw0XsCly8Nwk",
      "include_colab_link": true
    },
    "kernelspec": {
      "name": "python3",
      "display_name": "Python 3"
    },
    "language_info": {
      "name": "python"
    }
  },
  "cells": [
    {
      "cell_type": "markdown",
      "metadata": {
        "id": "view-in-github",
        "colab_type": "text"
      },
      "source": [
        "<a href=\"https://colab.research.google.com/github/Danniel13/Python-Practicas/blob/main/Listas-For-len.ipynb\" target=\"_parent\"><img src=\"https://colab.research.google.com/assets/colab-badge.svg\" alt=\"Open In Colab\"/></a>"
      ]
    },
    {
      "cell_type": "code",
      "metadata": {
        "colab": {
          "base_uri": "https://localhost:8080/"
        },
        "id": "2GXGMd4QUnyz",
        "outputId": "4d809e5d-26e2-4e40-9fba-710737b28b94"
      },
      "source": [
        "sensor= [3.6,1.5,0.4,-2.6]\n",
        "print (sensor[1])"
      ],
      "execution_count": null,
      "outputs": [
        {
          "output_type": "stream",
          "text": [
            "1.5\n"
          ],
          "name": "stdout"
        }
      ]
    },
    {
      "cell_type": "code",
      "metadata": {
        "colab": {
          "base_uri": "https://localhost:8080/"
        },
        "id": "99jgt3NZU3PG",
        "outputId": "899201e2-e9ab-45b8-f00f-6d3ee1f98bc3"
      },
      "source": [
        "for valor in sensor:\n",
        "  print(valor)"
      ],
      "execution_count": null,
      "outputs": [
        {
          "output_type": "stream",
          "text": [
            "3.6\n",
            "1.5\n",
            "0.4\n",
            "-2.6\n"
          ],
          "name": "stdout"
        }
      ]
    },
    {
      "cell_type": "code",
      "metadata": {
        "colab": {
          "base_uri": "https://localhost:8080/"
        },
        "id": "LPNUDq0wVCdT",
        "outputId": "bdc8a9d2-efdc-4f22-b9c3-25f5dc187d32"
      },
      "source": [
        "tam= len(sensor)\n",
        "for indice in range (tam):\n",
        "  print (sensor[indice])"
      ],
      "execution_count": null,
      "outputs": [
        {
          "output_type": "stream",
          "text": [
            "3.6\n",
            "1.5\n",
            "0.4\n",
            "-2.6\n"
          ],
          "name": "stdout"
        }
      ]
    },
    {
      "cell_type": "code",
      "metadata": {
        "colab": {
          "base_uri": "https://localhost:8080/"
        },
        "id": "WEc5lcnkXaiZ",
        "outputId": "6e04cb0c-ed0f-47ff-cdab-74e709558a06"
      },
      "source": [
        "print (tam)"
      ],
      "execution_count": null,
      "outputs": [
        {
          "output_type": "stream",
          "text": [
            "4\n"
          ],
          "name": "stdout"
        }
      ]
    },
    {
      "cell_type": "code",
      "metadata": {
        "id": "2X_i65x7YjEW"
      },
      "source": [
        "sensor = []\n",
        "for k in range (10)\n",
        "print (\"Registra un valor\")\n"
      ],
      "execution_count": null,
      "outputs": []
    }
  ]
}