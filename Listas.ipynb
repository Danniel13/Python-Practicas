{
  "nbformat": 4,
  "nbformat_minor": 0,
  "metadata": {
    "colab": {
      "name": "Listas.ipynb",
      "provenance": [],
      "authorship_tag": "ABX9TyNSTtdYwgpkjS16+hqoF3T0",
      "include_colab_link": true
    },
    "kernelspec": {
      "name": "python3",
      "display_name": "Python 3"
    },
    "language_info": {
      "name": "python"
    }
  },
  "cells": [
    {
      "cell_type": "markdown",
      "metadata": {
        "id": "view-in-github",
        "colab_type": "text"
      },
      "source": [
        "<a href=\"https://colab.research.google.com/github/Danniel13/Python-Practicas/blob/main/Listas.ipynb\" target=\"_parent\"><img src=\"https://colab.research.google.com/assets/colab-badge.svg\" alt=\"Open In Colab\"/></a>"
      ]
    },
    {
      "cell_type": "code",
      "metadata": {
        "colab": {
          "base_uri": "https://localhost:8080/"
        },
        "id": "2GXGMd4QUnyz",
        "outputId": "4d809e5d-26e2-4e40-9fba-710737b28b94"
      },
      "source": [
        "sensor= [3.6,1.5,0.4,-2.6]\n",
        "print (sensor[1])"
      ],
      "execution_count": null,
      "outputs": [
        {
          "output_type": "stream",
          "text": [
            "1.5\n"
          ],
          "name": "stdout"
        }
      ]
    },
    {
      "cell_type": "code",
      "metadata": {
        "colab": {
          "base_uri": "https://localhost:8080/"
        },
        "id": "99jgt3NZU3PG",
        "outputId": "899201e2-e9ab-45b8-f00f-6d3ee1f98bc3"
      },
      "source": [
        "for valor in sensor:\n",
        "  print(valor)"
      ],
      "execution_count": null,
      "outputs": [
        {
          "output_type": "stream",
          "text": [
            "3.6\n",
            "1.5\n",
            "0.4\n",
            "-2.6\n"
          ],
          "name": "stdout"
        }
      ]
    },
    {
      "cell_type": "code",
      "metadata": {
        "colab": {
          "base_uri": "https://localhost:8080/"
        },
        "id": "LPNUDq0wVCdT",
        "outputId": "bdc8a9d2-efdc-4f22-b9c3-25f5dc187d32"
      },
      "source": [
        "tam= len(sensor)\n",
        "for indice in range (tam):\n",
        "  print (sensor[indice])"
      ],
      "execution_count": null,
      "outputs": [
        {
          "output_type": "stream",
          "text": [
            "3.6\n",
            "1.5\n",
            "0.4\n",
            "-2.6\n"
          ],
          "name": "stdout"
        }
      ]
    },
    {
      "cell_type": "code",
      "metadata": {
        "colab": {
          "base_uri": "https://localhost:8080/"
        },
        "id": "WEc5lcnkXaiZ",
        "outputId": "6e04cb0c-ed0f-47ff-cdab-74e709558a06"
      },
      "source": [
        "print (tam)"
      ],
      "execution_count": null,
      "outputs": [
        {
          "output_type": "stream",
          "text": [
            "4\n"
          ],
          "name": "stdout"
        }
      ]
    },
    {
      "cell_type": "code",
      "metadata": {
        "colab": {
          "base_uri": "https://localhost:8080/"
        },
        "id": "2X_i65x7YjEW",
        "outputId": "c07b8990-3cee-4f9b-f647-6d216531520e"
      },
      "source": [
        "sensor = []\n",
        "for k in range (2):\n",
        "  print (\"Registra un valor\")\n",
        "  t = input()\n",
        "  t = float(t)\n",
        "  sensor.append(t)\n",
        "\n",
        "  \n",
        "print(sensor)\n",
        "\n",
        "for v in sensor:\n",
        "  print(v)"
      ],
      "execution_count": null,
      "outputs": [
        {
          "output_type": "stream",
          "text": [
            "Registra un valor\n",
            "5\n",
            "Registra un valor\n",
            "6\n",
            "[5.0, 6.0]\n",
            "5.0\n",
            "6.0\n"
          ],
          "name": "stdout"
        }
      ]
    },
    {
      "cell_type": "code",
      "metadata": {
        "id": "udKUvgPab1hC",
        "colab": {
          "base_uri": "https://localhost:8080/"
        },
        "outputId": "c82db106-a7eb-4ed7-cd8c-a4cf9acff6a1"
      },
      "source": [
        "lista1 = [\n",
        "         [1,2,3] ,\n",
        "          [4,5,6],\n",
        "          [\"prueba1\",\"prueba2\",\"prueba3\",\"prueba4\"]\n",
        "         \n",
        "]\n",
        "for k in lista1:\n",
        "  print (k)\n",
        "  for j in k:\n",
        "    print(j)\n"
      ],
      "execution_count": null,
      "outputs": [
        {
          "output_type": "stream",
          "text": [
            "[1, 2, 3]\n",
            "1\n",
            "2\n",
            "3\n",
            "[4, 5, 6]\n",
            "4\n",
            "5\n",
            "6\n",
            "['prueba1', 'prueba2', 'prueba3', 'prueba4']\n",
            "prueba1\n",
            "prueba2\n",
            "prueba3\n",
            "prueba4\n"
          ],
          "name": "stdout"
        }
      ]
    },
    {
      "cell_type": "code",
      "metadata": {
        "id": "SVALdBj9l7ae",
        "colab": {
          "base_uri": "https://localhost:8080/"
        },
        "outputId": "d027f19a-543e-461c-a31d-3e9eaa090e0f"
      },
      "source": [
        "filas = len(lista1)\n",
        "columnas = len(lista1[0])\n",
        "print(\"numero de filas: \",filas)\n",
        "print(\"numero de columnas: \",columnas)\n",
        "for i in range (filas):\n",
        "  for k in range (columnas):\n",
        "    print(lista1[k][i])\n"
      ],
      "execution_count": null,
      "outputs": [
        {
          "output_type": "stream",
          "text": [
            "numero de filas:  3\n",
            "numero de columnas:  3\n",
            "1\n",
            "4\n",
            "prueba1\n",
            "2\n",
            "5\n",
            "prueba2\n",
            "3\n",
            "6\n",
            "prueba3\n"
          ],
          "name": "stdout"
        }
      ]
    }
  ]
}