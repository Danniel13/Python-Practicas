{
  "nbformat": 4,
  "nbformat_minor": 0,
  "metadata": {
    "colab": {
      "name": "Untitled2.ipynb",
      "provenance": [],
      "authorship_tag": "ABX9TyNGx8uA04ftZie1hW7DOGjl",
      "include_colab_link": true
    },
    "kernelspec": {
      "name": "python3",
      "display_name": "Python 3"
    },
    "language_info": {
      "name": "python"
    }
  },
  "cells": [
    {
      "cell_type": "markdown",
      "metadata": {
        "id": "view-in-github",
        "colab_type": "text"
      },
      "source": [
        "<a href=\"https://colab.research.google.com/github/Danniel13/Python-Practicas/blob/main/Manejo%20de%20variables%20y%20funciones.ipynb\" target=\"_parent\"><img src=\"https://colab.research.google.com/assets/colab-badge.svg\" alt=\"Open In Colab\"/></a>"
      ]
    },
    {
      "cell_type": "code",
      "metadata": {
        "colab": {
          "base_uri": "https://localhost:8080/",
          "height": 129
        },
        "id": "nihiLAMmH9uK",
        "outputId": "75dcf9e4-7d27-4a7b-c9ca-fb3432ade3f1"
      },
      "source": [
        "def func(a,b):\n",
        "  return b ** a\n",
        "\n",
        "print(func(b=2,2))"
      ],
      "execution_count": null,
      "outputs": [
        {
          "output_type": "error",
          "ename": "SyntaxError",
          "evalue": "ignored",
          "traceback": [
            "\u001b[0;36m  File \u001b[0;32m\"<ipython-input-6-c9a0a06fec99>\"\u001b[0;36m, line \u001b[0;32m4\u001b[0m\n\u001b[0;31m    print(func(b=2,2))\u001b[0m\n\u001b[0m                  ^\u001b[0m\n\u001b[0;31mSyntaxError\u001b[0m\u001b[0;31m:\u001b[0m positional argument follows keyword argument\n"
          ]
        }
      ]
    },
    {
      "cell_type": "code",
      "metadata": {
        "colab": {
          "base_uri": "https://localhost:8080/"
        },
        "id": "HRsXvogEISP7",
        "outputId": "aab23df8-f0e9-457e-f4a3-2914ddb14de6"
      },
      "source": [
        "z = 0\n",
        "y = 10\n",
        "x = y < z and z > y or y > z and z < y\n",
        "print(x)"
      ],
      "execution_count": null,
      "outputs": [
        {
          "output_type": "stream",
          "text": [
            "True\n"
          ],
          "name": "stdout"
        }
      ]
    },
    {
      "cell_type": "code",
      "metadata": {
        "id": "Wc_PSCRHI6Kx"
      },
      "source": [
        "In\n",
        "in"
      ],
      "execution_count": null,
      "outputs": []
    },
    {
      "cell_type": "code",
      "metadata": {
        "colab": {
          "base_uri": "https://localhost:8080/"
        },
        "id": "6LS8n8G7JK8w",
        "outputId": "0f68383f-22e2-4401-9e14-b9e9d1b52841"
      },
      "source": [
        "list = [x * x for x in range(5)]\n",
        "def fun(lst):\n",
        "    del lst[lst[2]]\n",
        "    return lst\n",
        "\n",
        "print(fun(list))"
      ],
      "execution_count": null,
      "outputs": [
        {
          "output_type": "stream",
          "text": [
            "[0, 1, 4, 9]\n"
          ],
          "name": "stdout"
        }
      ]
    }
  ]
}