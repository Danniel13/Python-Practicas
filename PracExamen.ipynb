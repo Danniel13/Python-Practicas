{
  "nbformat": 4,
  "nbformat_minor": 0,
  "metadata": {
    "colab": {
      "name": "2 examen.ipynb",
      "provenance": [],
      "authorship_tag": "ABX9TyMn1s3Sy45Jkb5WeWkXfqyp",
      "include_colab_link": true
    },
    "kernelspec": {
      "name": "python3",
      "display_name": "Python 3"
    },
    "language_info": {
      "name": "python"
    }
  },
  "cells": [
    {
      "cell_type": "markdown",
      "metadata": {
        "id": "view-in-github",
        "colab_type": "text"
      },
      "source": [
        "<a href=\"https://colab.research.google.com/github/Danniel13/Python-Practicas/blob/main/PracExamen.ipynb\" target=\"_parent\"><img src=\"https://colab.research.google.com/assets/colab-badge.svg\" alt=\"Open In Colab\"/></a>"
      ]
    },
    {
      "cell_type": "code",
      "metadata": {
        "colab": {
          "base_uri": "https://localhost:8080/"
        },
        "id": "2UGG2-Ku0L45",
        "outputId": "6710ad5c-7606-4e4f-97da-63d3758ad5c4"
      },
      "source": [
        "import math\n",
        "print (dir(math))"
      ],
      "execution_count": null,
      "outputs": [
        {
          "output_type": "stream",
          "text": [
            "['__doc__', '__loader__', '__name__', '__package__', '__spec__', 'acos', 'acosh', 'asin', 'asinh', 'atan', 'atan2', 'atanh', 'ceil', 'copysign', 'cos', 'cosh', 'degrees', 'e', 'erf', 'erfc', 'exp', 'expm1', 'fabs', 'factorial', 'floor', 'fmod', 'frexp', 'fsum', 'gamma', 'gcd', 'hypot', 'inf', 'isclose', 'isfinite', 'isinf', 'isnan', 'ldexp', 'lgamma', 'log', 'log10', 'log1p', 'log2', 'modf', 'nan', 'pi', 'pow', 'radians', 'remainder', 'sin', 'sinh', 'sqrt', 'tan', 'tanh', 'tau', 'trunc']\n"
          ],
          "name": "stdout"
        }
      ]
    },
    {
      "cell_type": "code",
      "metadata": {
        "colab": {
          "base_uri": "https://localhost:8080/"
        },
        "id": "GjJmQBat2M2c",
        "outputId": "ebb45a26-df2b-4245-f701-aa66fb6df2da"
      },
      "source": [
        "print (__name__)"
      ],
      "execution_count": null,
      "outputs": [
        {
          "output_type": "stream",
          "text": [
            "__main__\n"
          ],
          "name": "stdout"
        }
      ]
    },
    {
      "cell_type": "code",
      "metadata": {
        "colab": {
          "base_uri": "https://localhost:8080/"
        },
        "id": "x0pAHVne4gRc",
        "outputId": "d23988d4-c7d1-4673-f531-35f016681e74"
      },
      "source": [
        "class B(Exception):\n",
        "    pass\n",
        "\n",
        "class C(B):\n",
        "    pass\n",
        "\n",
        "class D(C):\n",
        "    pass\n",
        "\n",
        "for cls in [B, C, D]:\n",
        "    try:\n",
        "        raise cls()\n",
        "    except D:\n",
        "        print(\"D\")\n",
        "    except C:\n",
        "        print(\"C\")\n",
        "    except B:\n",
        "        print(\"B\")"
      ],
      "execution_count": null,
      "outputs": [
        {
          "output_type": "stream",
          "text": [
            "B\n",
            "C\n",
            "D\n"
          ],
          "name": "stdout"
        }
      ]
    },
    {
      "cell_type": "code",
      "metadata": {
        "colab": {
          "base_uri": "https://localhost:8080/"
        },
        "id": "OTM3IH-z41y8",
        "outputId": "0d25c2cd-267c-474e-c5ef-aa069b242555"
      },
      "source": [
        "try:\n",
        "  raise Exception\n",
        "except BaseException:\n",
        "  print(\"a\")\n",
        "except Exception:\n",
        "  print(\"b\")\n",
        "except:\n",
        "  print(\"c\")\n"
      ],
      "execution_count": null,
      "outputs": [
        {
          "output_type": "stream",
          "text": [
            "a\n"
          ],
          "name": "stdout"
        }
      ]
    },
    {
      "cell_type": "code",
      "metadata": {
        "colab": {
          "base_uri": "https://localhost:8080/",
          "height": 129
        },
        "id": "G5IU6KPr5jND",
        "outputId": "9120fda1-879c-4c99-8169-c49197d36b9f"
      },
      "source": [
        "for line in open('text.txt', 'rt'):"
      ],
      "execution_count": null,
      "outputs": [
        {
          "output_type": "error",
          "ename": "SyntaxError",
          "evalue": "ignored",
          "traceback": [
            "\u001b[0;36m  File \u001b[0;32m\"<ipython-input-9-76e1de6a36d7>\"\u001b[0;36m, line \u001b[0;32m1\u001b[0m\n\u001b[0;31m    for line in open('text.txt', 'rt'):\u001b[0m\n\u001b[0m                                       ^\u001b[0m\n\u001b[0;31mSyntaxError\u001b[0m\u001b[0;31m:\u001b[0m unexpected EOF while parsing\n"
          ]
        }
      ]
    },
    {
      "cell_type": "code",
      "metadata": {
        "id": "g_GKVJ8k6mLA"
      },
      "source": [
        "try:\n",
        "  raise Exception\n",
        "except:\n",
        "  print(\"c\")\n",
        "except BaseException:\n",
        "  print(\"a\")\n",
        "except Exception:\n",
        "  print(\"b\")\n"
      ],
      "execution_count": null,
      "outputs": []
    },
    {
      "cell_type": "code",
      "metadata": {
        "id": "7D3QTMvO7PzJ",
        "colab": {
          "base_uri": "https://localhost:8080/",
          "height": 163
        },
        "outputId": "6cb98510-d9fe-41eb-d4b0-4a5ddc21f8ff"
      },
      "source": [
        "assert var !=0"
      ],
      "execution_count": null,
      "outputs": [
        {
          "output_type": "error",
          "ename": "NameError",
          "evalue": "ignored",
          "traceback": [
            "\u001b[0;31m---------------------------------------------------------------------------\u001b[0m",
            "\u001b[0;31mNameError\u001b[0m                                 Traceback (most recent call last)",
            "\u001b[0;32m<ipython-input-1-98d069eb09a6>\u001b[0m in \u001b[0;36m<module>\u001b[0;34m()\u001b[0m\n\u001b[0;32m----> 1\u001b[0;31m \u001b[0;32massert\u001b[0m \u001b[0mvar\u001b[0m \u001b[0;34m!=\u001b[0m\u001b[0;36m0\u001b[0m\u001b[0;34m\u001b[0m\u001b[0;34m\u001b[0m\u001b[0m\n\u001b[0m",
            "\u001b[0;31mNameError\u001b[0m: name 'var' is not defined"
          ]
        }
      ]
    },
    {
      "cell_type": "code",
      "metadata": {
        "id": "C-Ablvgy7c5g",
        "colab": {
          "base_uri": "https://localhost:8080/"
        },
        "outputId": "732e78e0-184e-4d92-b88c-7c862ba57cd0"
      },
      "source": [
        "x = \"\\\\\\\"\n",
        "print(len(x))"
      ],
      "execution_count": null,
      "outputs": [
        {
          "output_type": "error",
          "ename": "SyntaxError",
          "evalue": "ignored",
          "traceback": [
            "\u001b[0;36m  File \u001b[0;32m\"<ipython-input-3-328547a2b896>\"\u001b[0;36m, line \u001b[0;32m1\u001b[0m\n\u001b[0;31m    x = \"\\\\\\\"\u001b[0m\n\u001b[0m             ^\u001b[0m\n\u001b[0;31mSyntaxError\u001b[0m\u001b[0;31m:\u001b[0m EOL while scanning string literal\n"
          ]
        }
      ]
    },
    {
      "cell_type": "code",
      "metadata": {
        "colab": {
          "base_uri": "https://localhost:8080/"
        },
        "id": "WftuWhTk7n6Y",
        "outputId": "6e647bb0-e89c-4368-9fd4-3342df2217b4"
      },
      "source": [
        "print(chr(ord('p') + 2))"
      ],
      "execution_count": null,
      "outputs": [
        {
          "output_type": "stream",
          "text": [
            "r\n"
          ],
          "name": "stdout"
        }
      ]
    },
    {
      "cell_type": "code",
      "metadata": {
        "colab": {
          "base_uri": "https://localhost:8080/"
        },
        "id": "7jleiQ-f7un3",
        "outputId": "60649d77-b35c-4094-90e9-1db3f10544fd"
      },
      "source": [
        "print(float(\"1.3\"))"
      ],
      "execution_count": null,
      "outputs": [
        {
          "output_type": "stream",
          "text": [
            "1.3\n"
          ],
          "name": "stdout"
        }
      ]
    },
    {
      "cell_type": "code",
      "metadata": {
        "colab": {
          "base_uri": "https://localhost:8080/"
        },
        "id": "CLVxjdcj8pYV",
        "outputId": "8fa629da-250d-4ecd-bf80-f428bd5eaa7a"
      },
      "source": [
        "class A:\n",
        "  def __init__ (self, v=2):\n",
        "      self.v = v\n",
        "\n",
        "  def set(self, v=1):\n",
        "      self.v += v\n",
        "      return self.v\n",
        "\n",
        "a = A()\n",
        "b = a\n",
        "b.set()\n",
        "print(a.v)"
      ],
      "execution_count": null,
      "outputs": [
        {
          "output_type": "stream",
          "text": [
            "3\n"
          ],
          "name": "stdout"
        }
      ]
    },
    {
      "cell_type": "code",
      "metadata": {
        "colab": {
          "base_uri": "https://localhost:8080/"
        },
        "id": "IYLuP0E2AxGx",
        "outputId": "02e59666-8af8-4235-b4f3-a6af08fae8a5"
      },
      "source": [
        "class A:\n",
        "  A = 1\n",
        "  def __init__(self):\n",
        "      self.a = 0\n",
        "\n",
        "print(hasattr(A, 'a'))"
      ],
      "execution_count": null,
      "outputs": [
        {
          "output_type": "stream",
          "text": [
            "False\n"
          ],
          "name": "stdout"
        }
      ]
    },
    {
      "cell_type": "code",
      "metadata": {
        "colab": {
          "base_uri": "https://localhost:8080/"
        },
        "id": "4mdfVjg3A8zx",
        "outputId": "396e7471-8380-4f0f-9be4-de5e8cd44cca"
      },
      "source": [
        "class A:\n",
        "  pass\n",
        "\n",
        "class B(A):\n",
        "  pass\n",
        "\n",
        "class C(B):\n",
        "  pass\n",
        "\n",
        "print(issubclass (A, C))"
      ],
      "execution_count": null,
      "outputs": [
        {
          "output_type": "stream",
          "text": [
            "False\n"
          ],
          "name": "stdout"
        }
      ]
    },
    {
      "cell_type": "code",
      "metadata": {
        "id": "a8rBsZsrCigc"
      },
      "source": [
        "class A:\n",
        "  def __init__ (self, v):\n",
        "    self.__a= v + 1\n",
        "\n",
        "a = A(0)\n",
        "print (a.__a)"
      ],
      "execution_count": null,
      "outputs": []
    },
    {
      "cell_type": "code",
      "metadata": {
        "id": "9_y0LMFlC9a8"
      },
      "source": [
        "class A:\n",
        "  def __init__(Self):\n",
        "    pass\n",
        "\n",
        "a = A(1)\n",
        "print (hasattr(a, 'A'))"
      ],
      "execution_count": null,
      "outputs": []
    },
    {
      "cell_type": "code",
      "metadata": {
        "id": "l4kc0FpFDOag"
      },
      "source": [
        "class A:\n",
        "  def a(self):\n",
        "    print ('a')\n",
        "\n",
        "class B:\n",
        "  def a(self):\n",
        "    print('b')\n",
        "\n",
        "class C(B, A):\n",
        "  def c(self):\n",
        "    self.a()\n",
        "\n",
        "  o = C()\n",
        "  o.c()"
      ],
      "execution_count": null,
      "outputs": []
    },
    {
      "cell_type": "code",
      "metadata": {
        "colab": {
          "base_uri": "https://localhost:8080/",
          "height": 384
        },
        "id": "maOcIRARDv1v",
        "outputId": "e3bd7884-59b3-4fb2-dbd1-79ed8cfba690"
      },
      "source": [
        "try:\n",
        "  raise Exception(1, 2, 3)\n",
        "except Excepcion as e:\n",
        "  print(len(e.args))"
      ],
      "execution_count": null,
      "outputs": [
        {
          "output_type": "error",
          "ename": "NameError",
          "evalue": "ignored",
          "traceback": [
            "\u001b[0;31m---------------------------------------------------------------------------\u001b[0m",
            "\u001b[0;31mException\u001b[0m                                 Traceback (most recent call last)",
            "\u001b[0;32m<ipython-input-29-fdc862b8dab0>\u001b[0m in \u001b[0;36m<module>\u001b[0;34m()\u001b[0m\n\u001b[1;32m      1\u001b[0m \u001b[0;32mtry\u001b[0m\u001b[0;34m:\u001b[0m\u001b[0;34m\u001b[0m\u001b[0;34m\u001b[0m\u001b[0m\n\u001b[0;32m----> 2\u001b[0;31m   \u001b[0;32mraise\u001b[0m \u001b[0mException\u001b[0m\u001b[0;34m(\u001b[0m\u001b[0;36m1\u001b[0m\u001b[0;34m,\u001b[0m \u001b[0;36m2\u001b[0m\u001b[0;34m,\u001b[0m \u001b[0;36m3\u001b[0m\u001b[0;34m)\u001b[0m\u001b[0;34m\u001b[0m\u001b[0;34m\u001b[0m\u001b[0m\n\u001b[0m\u001b[1;32m      3\u001b[0m \u001b[0;32mexcept\u001b[0m \u001b[0mExcepcion\u001b[0m \u001b[0;32mas\u001b[0m \u001b[0me\u001b[0m\u001b[0;34m:\u001b[0m\u001b[0;34m\u001b[0m\u001b[0;34m\u001b[0m\u001b[0m\n",
            "\u001b[0;31mException\u001b[0m: (1, 2, 3)",
            "\nDuring handling of the above exception, another exception occurred:\n",
            "\u001b[0;31mNameError\u001b[0m                                 Traceback (most recent call last)",
            "\u001b[0;32m<ipython-input-29-fdc862b8dab0>\u001b[0m in \u001b[0;36m<module>\u001b[0;34m()\u001b[0m\n\u001b[1;32m      1\u001b[0m \u001b[0;32mtry\u001b[0m\u001b[0;34m:\u001b[0m\u001b[0;34m\u001b[0m\u001b[0;34m\u001b[0m\u001b[0m\n\u001b[1;32m      2\u001b[0m   \u001b[0;32mraise\u001b[0m \u001b[0mException\u001b[0m\u001b[0;34m(\u001b[0m\u001b[0;36m1\u001b[0m\u001b[0;34m,\u001b[0m \u001b[0;36m2\u001b[0m\u001b[0;34m,\u001b[0m \u001b[0;36m3\u001b[0m\u001b[0;34m)\u001b[0m\u001b[0;34m\u001b[0m\u001b[0;34m\u001b[0m\u001b[0m\n\u001b[0;32m----> 3\u001b[0;31m \u001b[0;32mexcept\u001b[0m \u001b[0mExcepcion\u001b[0m \u001b[0;32mas\u001b[0m \u001b[0me\u001b[0m\u001b[0;34m:\u001b[0m\u001b[0;34m\u001b[0m\u001b[0;34m\u001b[0m\u001b[0m\n\u001b[0m\u001b[1;32m      4\u001b[0m   \u001b[0mprint\u001b[0m\u001b[0;34m(\u001b[0m\u001b[0mlen\u001b[0m\u001b[0;34m(\u001b[0m\u001b[0me\u001b[0m\u001b[0;34m.\u001b[0m\u001b[0margs\u001b[0m\u001b[0;34m)\u001b[0m\u001b[0;34m)\u001b[0m\u001b[0;34m\u001b[0m\u001b[0;34m\u001b[0m\u001b[0m\n",
            "\u001b[0;31mNameError\u001b[0m: name 'Excepcion' is not defined"
          ]
        }
      ]
    },
    {
      "cell_type": "code",
      "metadata": {
        "colab": {
          "base_uri": "https://localhost:8080/"
        },
        "id": "1qqZnZAfEHma",
        "outputId": "03f79542-ab95-4d31-f341-0fc2d96ed74a"
      },
      "source": [
        "def I(n):\n",
        "  s = '+'\n",
        "  for i in range(n):\n",
        "    s += s\n",
        "    yield s\n",
        "\n",
        "for x in I(2):\n",
        "  print(x, end='')"
      ],
      "execution_count": null,
      "outputs": [
        {
          "output_type": "stream",
          "text": [
            "++++++"
          ],
          "name": "stdout"
        }
      ]
    },
    {
      "cell_type": "code",
      "metadata": {
        "colab": {
          "base_uri": "https://localhost:8080/"
        },
        "id": "AMk-IJCVEWrg",
        "outputId": "20e4a0c8-7626-4399-994e-9a801cf8592e"
      },
      "source": [
        "class I:\n",
        "  def __init__ (self):\n",
        "    self.s = 'abc'\n",
        "    self.i = 0\n",
        "  def __iter__ (self):\n",
        "    return self\n",
        "  def __next__ (self):\n",
        "    if self.i == len (self.s):\n",
        "            raise StopIteration\n",
        "    v = self.s [self.i]\n",
        "    self.i +=1\n",
        "    return v\n",
        "\n",
        "for x in I():\n",
        "    print(x, end='')"
      ],
      "execution_count": null,
      "outputs": [
        {
          "output_type": "stream",
          "text": [
            "abc"
          ],
          "name": "stdout"
        }
      ]
    },
    {
      "cell_type": "code",
      "metadata": {
        "colab": {
          "base_uri": "https://localhost:8080/"
        },
        "id": "oxov8hVZFZu9",
        "outputId": "9ef6c6e7-b517-4027-b22c-a637c1985adc"
      },
      "source": [
        "def o (p):\n",
        "  def q():\n",
        "      return '*' * p\n",
        "  return q\n",
        "\n",
        "r = o(1)\n",
        "s = o(2)\n",
        "print (r() + s())"
      ],
      "execution_count": null,
      "outputs": [
        {
          "output_type": "stream",
          "text": [
            "***\n"
          ],
          "name": "stdout"
        }
      ]
    },
    {
      "cell_type": "code",
      "metadata": {
        "id": "f5JTt6NFFrU8"
      },
      "source": [
        "q = s.read(1)\n",
        "\n",
        "print (q)"
      ],
      "execution_count": null,
      "outputs": []
    },
    {
      "cell_type": "code",
      "metadata": {
        "colab": {
          "base_uri": "https://localhost:8080/",
          "height": 180
        },
        "id": "XAEUp6xhGFU0",
        "outputId": "8a7a850f-5fc9-4f0a-c4e6-57e4c0346f57"
      },
      "source": [
        "for x in open ('file', 'rt'):\n",
        "  print(x)"
      ],
      "execution_count": null,
      "outputs": [
        {
          "output_type": "error",
          "ename": "FileNotFoundError",
          "evalue": "ignored",
          "traceback": [
            "\u001b[0;31m---------------------------------------------------------------------------\u001b[0m",
            "\u001b[0;31mFileNotFoundError\u001b[0m                         Traceback (most recent call last)",
            "\u001b[0;32m<ipython-input-36-7bf5102600e5>\u001b[0m in \u001b[0;36m<module>\u001b[0;34m()\u001b[0m\n\u001b[0;32m----> 1\u001b[0;31m \u001b[0;32mfor\u001b[0m \u001b[0mx\u001b[0m \u001b[0;32min\u001b[0m \u001b[0mopen\u001b[0m \u001b[0;34m(\u001b[0m\u001b[0;34m'file'\u001b[0m\u001b[0;34m,\u001b[0m \u001b[0;34m'rt'\u001b[0m\u001b[0;34m)\u001b[0m\u001b[0;34m:\u001b[0m\u001b[0;34m\u001b[0m\u001b[0;34m\u001b[0m\u001b[0m\n\u001b[0m\u001b[1;32m      2\u001b[0m   \u001b[0mprint\u001b[0m\u001b[0;34m(\u001b[0m\u001b[0mx\u001b[0m\u001b[0;34m)\u001b[0m\u001b[0;34m\u001b[0m\u001b[0;34m\u001b[0m\u001b[0m\n",
            "\u001b[0;31mFileNotFoundError\u001b[0m: [Errno 2] No such file or directory: 'file'"
          ]
        }
      ]
    }
  ]
}