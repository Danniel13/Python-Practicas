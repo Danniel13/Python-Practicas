{
  "nbformat": 4,
  "nbformat_minor": 0,
  "metadata": {
    "colab": {
      "name": "Funciones.ipynb",
      "provenance": [],
      "authorship_tag": "ABX9TyPWpyM2jbiPKsuETgnFBPv4",
      "include_colab_link": true
    },
    "kernelspec": {
      "name": "python3",
      "display_name": "Python 3"
    },
    "language_info": {
      "name": "python"
    }
  },
  "cells": [
    {
      "cell_type": "markdown",
      "metadata": {
        "id": "view-in-github",
        "colab_type": "text"
      },
      "source": [
        "<a href=\"https://colab.research.google.com/github/Danniel13/Python-Practicas/blob/main/Funciones.ipynb\" target=\"_parent\"><img src=\"https://colab.research.google.com/assets/colab-badge.svg\" alt=\"Open In Colab\"/></a>"
      ]
    },
    {
      "cell_type": "code",
      "metadata": {
        "id": "5xhr6Cyhv6CO"
      },
      "source": [
        "def ordenar(listadatos):\n",
        "  tam = len(listadatos)\n",
        "  for i in range(tam-1):\n",
        "    print(num )\n",
        "    \n",
        "\n",
        "def pedirDatos(intentos):\n",
        "  if intentos == 0:\n",
        "    print(\"Ya no mas\")\n",
        "    return 0\n",
        "\n",
        "  msj = \"Ingrese datos numericos de tipo entero a organizar, separados por comas\"\n",
        "  print(msj)\n",
        "  numeros = input().split(\",\")\n",
        "  for num in numeros:\n",
        "    if  num.isnumeric():\n",
        "      return pedirDatos(intentos-1)\n",
        "  return numeros\n",
        "    \n",
        " \n",
        "\n",
        "def main():\n",
        "    pedirDatos(3)\n",
        "    ordenar()"
      ],
      "execution_count": null,
      "outputs": []
    },
    {
      "cell_type": "code",
      "metadata": {
        "colab": {
          "base_uri": "https://localhost:8080/"
        },
        "id": "oBbs3Vf8xBSG",
        "outputId": "188ee2a2-7d04-493e-8650-ec10ed8c9e97"
      },
      "source": [
        "main()\n"
      ],
      "execution_count": null,
      "outputs": [
        {
          "output_type": "stream",
          "text": [
            "Ingrese datos numericos de tipo entero a organizar, separados por comas\n",
            "3,3,1\n",
            "Ingrese datos numericos de tipo entero a organizar, separados por comas\n"
          ],
          "name": "stdout"
        }
      ]
    }
  ]
}