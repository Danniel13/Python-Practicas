{
  "nbformat": 4,
  "nbformat_minor": 0,
  "metadata": {
    "colab": {
      "name": "Funciones.ipynb",
      "provenance": [],
      "authorship_tag": "ABX9TyOp4ELJWEKp2kIuJlWkPFRx",
      "include_colab_link": true
    },
    "kernelspec": {
      "name": "python3",
      "display_name": "Python 3"
    },
    "language_info": {
      "name": "python"
    }
  },
  "cells": [
    {
      "cell_type": "markdown",
      "metadata": {
        "id": "view-in-github",
        "colab_type": "text"
      },
      "source": [
        "<a href=\"https://colab.research.google.com/github/Danniel13/Python-Practicas/blob/main/Funciones.ipynb\" target=\"_parent\"><img src=\"https://colab.research.google.com/assets/colab-badge.svg\" alt=\"Open In Colab\"/></a>"
      ]
    },
    {
      "cell_type": "code",
      "metadata": {
        "id": "5n7hI-0Q8Vml"
      },
      "source": [
        "def saludar():\n",
        "  print(\"saludo\")"
      ],
      "execution_count": 1,
      "outputs": []
    },
    {
      "cell_type": "code",
      "metadata": {
        "colab": {
          "base_uri": "https://localhost:8080/"
        },
        "id": "8j4FdypX9CA0",
        "outputId": "2c666298-c22f-43cb-f429-6b0f2d7f4242"
      },
      "source": [
        "saludar()"
      ],
      "execution_count": 2,
      "outputs": [
        {
          "output_type": "stream",
          "text": [
            "saludo\n"
          ],
          "name": "stdout"
        }
      ]
    },
    {
      "cell_type": "code",
      "metadata": {
        "colab": {
          "base_uri": "https://localhost:8080/"
        },
        "id": "5_UOd6_nBjfj",
        "outputId": "dda76a98-e981-4fa3-9a51-caf9fef18972"
      },
      "source": [
        "xt = 7\n",
        "yt = 20\n",
        "print(xt+yt)"
      ],
      "execution_count": null,
      "outputs": [
        {
          "output_type": "stream",
          "text": [
            "27\n"
          ],
          "name": "stdout"
        }
      ]
    },
    {
      "cell_type": "code",
      "metadata": {
        "id": "REXXE24cBCDD"
      },
      "source": [
        "\n",
        "def suma(a,b):\n",
        "  xt = a\n",
        "  yt = b\n",
        "  print(xt+yt)"
      ],
      "execution_count": null,
      "outputs": []
    }
  ]
}