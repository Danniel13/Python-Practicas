{
  "nbformat": 4,
  "nbformat_minor": 0,
  "metadata": {
    "colab": {
      "name": "metodos.ipynb",
      "provenance": [],
      "authorship_tag": "ABX9TyMj6wMCbYEq4KEz1m2Hzp7t",
      "include_colab_link": true
    },
    "kernelspec": {
      "name": "python3",
      "display_name": "Python 3"
    },
    "language_info": {
      "name": "python"
    }
  },
  "cells": [
    {
      "cell_type": "markdown",
      "metadata": {
        "id": "view-in-github",
        "colab_type": "text"
      },
      "source": [
        "<a href=\"https://colab.research.google.com/github/Danniel13/Python-Practicas/blob/main/metodos.ipynb\" target=\"_parent\"><img src=\"https://colab.research.google.com/assets/colab-badge.svg\" alt=\"Open In Colab\"/></a>"
      ]
    },
    {
      "cell_type": "code",
      "metadata": {
        "id": "bkrOnwHycvVO",
        "colab": {
          "base_uri": "https://localhost:8080/"
        },
        "outputId": "2d550952-bb1d-4a7d-dd67-15d1ad440cec"
      },
      "source": [
        "numeros = input()\n",
        "listanumeros = numeros.split()\n",
        "print(listanumeros)\n",
        "csvnumeros= \",\".join(listanumeros)\n",
        "print(csvnumeros)\n",
        "print(type(csvnumeros))"
      ],
      "execution_count": null,
      "outputs": [
        {
          "output_type": "stream",
          "text": [
            "50 60 70 80\n",
            "['50', '60', '70', '80']\n",
            "50,60,70,80\n",
            "<class 'str'>\n"
          ],
          "name": "stdout"
        }
      ]
    }
  ]
}