{
  "nbformat": 4,
  "nbformat_minor": 0,
  "metadata": {
    "colab": {
      "name": "Diccionario.ipynb",
      "provenance": [],
      "authorship_tag": "ABX9TyODC/JEbt3E6m7BWlYt5w/a",
      "include_colab_link": true
    },
    "kernelspec": {
      "name": "python3",
      "display_name": "Python 3"
    },
    "language_info": {
      "name": "python"
    }
  },
  "cells": [
    {
      "cell_type": "markdown",
      "metadata": {
        "id": "view-in-github",
        "colab_type": "text"
      },
      "source": [
        "<a href=\"https://colab.research.google.com/github/Danniel13/Python-Practicas/blob/main/Diccionario.ipynb\" target=\"_parent\"><img src=\"https://colab.research.google.com/assets/colab-badge.svg\" alt=\"Open In Colab\"/></a>"
      ]
    },
    {
      "cell_type": "code",
      "metadata": {
        "colab": {
          "base_uri": "https://localhost:8080/"
        },
        "id": "7KH0Nd7o0QLK",
        "outputId": "65596b9e-60fd-43b9-a0bc-30feb050a886"
      },
      "source": [
        "userdata = {\n",
        "    \"name\":\"Lorenza\",\n",
        "    \"Age\":\"32 años\",\n",
        "    \"Doc Number\": \"1014245687\"\n",
        "  }\n",
        "print(userdata)"
      ],
      "execution_count": null,
      "outputs": [
        {
          "output_type": "stream",
          "text": [
            "{'name': 'Lorenza', 'Age': '32 años', 'Doc Number': '1014245687'}\n"
          ],
          "name": "stdout"
        }
      ]
    },
    {
      "cell_type": "code",
      "metadata": {
        "id": "1DrG2Ge62ZYn"
      },
      "source": [
        "lista2 =[ {\"fecha1\": \"2021\"},\n",
        "          {\"fecha2\": \"2022\"},\n",
        "        ]\n",
        "\n",
        "\n"
      ],
      "execution_count": null,
      "outputs": []
    },
    {
      "cell_type": "code",
      "metadata": {
        "colab": {
          "base_uri": "https://localhost:8080/",
          "height": 163
        },
        "id": "PY10_ylt2-Le",
        "outputId": "0b305141-d9d8-499f-e6b5-ff773d730f05"
      },
      "source": [
        "print ([lista2][\"fecha1\"])"
      ],
      "execution_count": null,
      "outputs": [
        {
          "output_type": "error",
          "ename": "TypeError",
          "evalue": "ignored",
          "traceback": [
            "\u001b[0;31m---------------------------------------------------------------------------\u001b[0m",
            "\u001b[0;31mTypeError\u001b[0m                                 Traceback (most recent call last)",
            "\u001b[0;32m<ipython-input-15-4e9533215531>\u001b[0m in \u001b[0;36m<module>\u001b[0;34m()\u001b[0m\n\u001b[0;32m----> 1\u001b[0;31m \u001b[0mprint\u001b[0m \u001b[0;34m(\u001b[0m\u001b[0;34m[\u001b[0m\u001b[0mlista2\u001b[0m\u001b[0;34m]\u001b[0m\u001b[0;34m[\u001b[0m\u001b[0;34m\"fecha1\"\u001b[0m\u001b[0;34m]\u001b[0m\u001b[0;34m)\u001b[0m\u001b[0;34m\u001b[0m\u001b[0;34m\u001b[0m\u001b[0m\n\u001b[0m",
            "\u001b[0;31mTypeError\u001b[0m: list indices must be integers or slices, not str"
          ]
        }
      ]
    },
    {
      "cell_type": "code",
      "metadata": {
        "colab": {
          "base_uri": "https://localhost:8080/"
        },
        "id": "n73uzpzk4ORq",
        "outputId": "36647e2b-4b56-4ec8-c047-9dad8d1e76ae"
      },
      "source": [
        "strNombre = \"Juan\"\n",
        "intEdad= 28\n",
        "listasensor= [0.5, 1.6, 7.9]\n",
        "dictusuarios = {\"name\":\"lokensia\",\n",
        "                \"intEdad\":\"27\"\n",
        "                }\n",
        "dato = dictusuarios[\"name\"]\n",
        "print(dato)"
      ],
      "execution_count": null,
      "outputs": [
        {
          "output_type": "stream",
          "text": [
            "lokensia\n"
          ],
          "name": "stdout"
        }
      ]
    },
    {
      "cell_type": "code",
      "metadata": {
        "id": "5gVuzcEk8DDm"
      },
      "source": [
        ""
      ],
      "execution_count": null,
      "outputs": []
    }
  ]
}